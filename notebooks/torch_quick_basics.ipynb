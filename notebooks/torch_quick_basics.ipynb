{
 "cells": [
  {
   "cell_type": "code",
   "execution_count": 38,
   "id": "22e88bac",
   "metadata": {},
   "outputs": [],
   "source": [
    "import copy\n",
    "import torch\n",
    "import numpy as np\n",
    "import pandas as pd"
   ]
  },
  {
   "cell_type": "code",
   "execution_count": 49,
   "id": "c75ed1c5",
   "metadata": {},
   "outputs": [
    {
     "name": "stdout",
     "output_type": "stream",
     "text": [
      "tensor([1, 2, 3])\n",
      "tensor([[1, 2, 3],\n",
      "        [4, 5, 6]])\n",
      "****************************************************************************************************\n",
      "torch.Size([3])\n",
      "torch.Size([2, 3])\n",
      "****************************************************************************************************\n",
      "torch.int64\n",
      "torch.int64\n",
      "****************************************************************************************************\n",
      "6\n"
     ]
    }
   ],
   "source": [
    "#declare a 1D tensor\n",
    "x = torch.tensor([1,2,3])\n",
    "\n",
    "\n",
    "#2D tensor\n",
    "xx = torch.tensor([[1,2,3], [4,5,6]])\n",
    "\n",
    "\n",
    "print(x)\n",
    "print(xx)\n",
    "\n",
    "print('*'*100)\n",
    "\n",
    "print(x.size())\n",
    "print(xx.size())\n",
    "\n",
    "\n",
    "print('*'*100)\n",
    "\n",
    "print(x.dtype)\n",
    "print(xx.dtype)\n",
    "\n",
    "print('*'*100)\n",
    "\n",
    "#accessing pt content\n",
    "print(xx[1][2].item())"
   ]
  },
  {
   "cell_type": "code",
   "execution_count": 14,
   "id": "d4b63a11",
   "metadata": {},
   "outputs": [
    {
     "name": "stdout",
     "output_type": "stream",
     "text": [
      "torch.float32\n",
      "torch.float64\n"
     ]
    }
   ],
   "source": [
    "#chage the dtype\n",
    "\n",
    "x = x.to(dtype = torch.float32)\n",
    "\n",
    "print(x.dtype)\n",
    "\n",
    "#OR\n",
    "\n",
    "xx = xx.type(torch.DoubleTensor)\n",
    "print(xx.dtype)"
   ]
  },
  {
   "cell_type": "code",
   "execution_count": 12,
   "id": "49a993ee",
   "metadata": {
    "scrolled": true
   },
   "outputs": [
    {
     "name": "stdout",
     "output_type": "stream",
     "text": [
      "torch.Size([2, 3])\n",
      "torch.float64\n"
     ]
    }
   ],
   "source": [
    "#Declare double tensor\n",
    "\n",
    "xd = torch.DoubleTensor([[1,2,3], [4,5,6]])\n",
    "\n",
    "print(xd.shape)\n",
    "print(xd.dtype)"
   ]
  },
  {
   "cell_type": "code",
   "execution_count": 16,
   "id": "b4d5b851",
   "metadata": {},
   "outputs": [
    {
     "name": "stdout",
     "output_type": "stream",
     "text": [
      "torch.int64\n"
     ]
    }
   ],
   "source": [
    "#checking in-place and out-place operation of changing dtype of tensor\n",
    "\n",
    "a = torch.tensor([2])\n",
    "print(a.dtype)\n",
    "\n",
    "#NOT inplace opertion\n",
    "a.to(dtype = torch.float16)\n",
    "print(a.dtype)\n",
    "\n",
    "#NOT in-place operation \n",
    "a.type(torch.DoubleTensor)\n",
    "print(a.dtype)"
   ]
  },
  {
   "cell_type": "code",
   "execution_count": 28,
   "id": "4fbf7b05",
   "metadata": {},
   "outputs": [
    {
     "name": "stdout",
     "output_type": "stream",
     "text": [
      "torch.Size([1, 6])\n",
      "tensor([[1., 2.],\n",
      "        [3., 4.],\n",
      "        [5., 6.]], dtype=torch.float64)\n"
     ]
    }
   ],
   "source": [
    "#Reshaping the tensors\n",
    "\n",
    "# print(xx.view(-1,6))\n",
    "xx = xx.view(-1,6)\n",
    "print(xx.shape)\n",
    "\n",
    "\n",
    "print(xd.view(3,2))"
   ]
  },
  {
   "cell_type": "code",
   "execution_count": 40,
   "id": "026297a8",
   "metadata": {},
   "outputs": [
    {
     "name": "stdout",
     "output_type": "stream",
     "text": [
      "[1 2 3]\n",
      "(3,)\n",
      "int64\n",
      "****************************************************************************************************\n",
      "(3,)\n",
      "float32\n",
      "****************************************************************************************************\n",
      "(3,)\n",
      "float64\n"
     ]
    }
   ],
   "source": [
    "#Numpy array\n",
    "\n",
    "np_x = np.array([1,2,3])\n",
    "\n",
    "print(np_x)\n",
    "print(np_x.shape)\n",
    "print(np_x.dtype)\n",
    "\n",
    "print('*'*100)\n",
    "\n",
    "#declare with different dtype\n",
    "np_x1 = np.array([1,2,3], np.float32)\n",
    "print(np_x1.shape)\n",
    "print(np_x1.dtype)\n",
    "\n",
    "print('*'*100)\n",
    "\n",
    "#change numpy array dtype\n",
    "np_x11 = copy.deepcopy(np_x1)\n",
    "np_x11 = np_x11.astype(np.float64)\n",
    "print(np_x11.shape)\n",
    "print(np_x11.dtype)"
   ]
  },
  {
   "cell_type": "code",
   "execution_count": 46,
   "id": "28bc71f3",
   "metadata": {
    "scrolled": true
   },
   "outputs": [
    {
     "name": "stdout",
     "output_type": "stream",
     "text": [
      "<class 'torch.Tensor'>\n",
      "torch.Size([3])\n",
      "****************************************************************************************************\n",
      "[[1. 2. 3. 4. 5. 6.]]\n",
      "<class 'numpy.ndarray'>\n",
      "(1, 6)\n"
     ]
    }
   ],
   "source": [
    "#Numpy array and Pytorch tensors\n",
    "\n",
    "\n",
    "#np to pt\n",
    "np_t = torch.from_numpy(np_x1)\n",
    "print(type(np_t))\n",
    "print(np_t.shape)\n",
    "\n",
    "print('*'*100)\n",
    "\n",
    "#pt to np\n",
    "pt_np = xx.numpy()\n",
    "print(pt_np)\n",
    "print(type(pt_np))\n",
    "print(pt_np.shape)"
   ]
  },
  {
   "cell_type": "code",
   "execution_count": 61,
   "id": "0296d020",
   "metadata": {},
   "outputs": [
    {
     "name": "stdout",
     "output_type": "stream",
     "text": [
      "tensor([1., 1., 1., 1., 1., 1., 1., 1., 1., 1.])\n",
      "torch.Size([10])\n",
      "tensor([[0., 0., 0., 0., 0., 0., 0.],\n",
      "        [0., 0., 0., 0., 0., 0., 0.],\n",
      "        [0., 0., 0., 0., 0., 0., 0.],\n",
      "        [0., 0., 0., 0., 0., 0., 0.],\n",
      "        [0., 0., 0., 0., 0., 0., 0.]])\n",
      "torch.Size([5, 7])\n"
     ]
    }
   ],
   "source": [
    "#pytorch tensors in-built matrix\n",
    "\n",
    "one = torch.ones(10)\n",
    "print(one)\n",
    "print(one.shape)\n",
    "\n",
    "zero = torch.zeros(5,7)\n",
    "print(zero)\n",
    "print(zero.shape)"
   ]
  },
  {
   "cell_type": "code",
   "execution_count": 72,
   "id": "36edd01b",
   "metadata": {},
   "outputs": [
    {
     "name": "stdout",
     "output_type": "stream",
     "text": [
      "tensor([0.3489, 0.8677])\n",
      "****************************************************************************************************\n",
      "tensor([[ 0.9229,  1.1036],\n",
      "        [ 0.4840, -0.3887]])\n",
      "****************************************************************************************************\n",
      "tensor([[82, 82, 50],\n",
      "        [76, 84, 95],\n",
      "        [53, 56, 66]])\n",
      "****************************************************************************************************\n",
      "tensor([25,  5,  7, 17, 28, 12,  9, 10,  6, 26, 19, 22, 18, 15,  1, 16, 13, 20,\n",
      "         4, 11, 23, 14,  8, 21, 24, 27,  3,  2,  0, 29])\n",
      "****************************************************************************************************\n",
      "tensor([10.0000, 10.5000, 11.0000, 11.5000, 12.0000, 12.5000, 13.0000, 13.5000,\n",
      "        14.0000, 14.5000])\n"
     ]
    }
   ],
   "source": [
    "#Random number genertion functions in torch\n",
    "\n",
    "x_rnd = torch.rand(2) #uniform distribution [0,1)\n",
    "print(x_rnd)\n",
    "\n",
    "print('*'*100)\n",
    "\n",
    "x_rnd_normal = torch.randn(2,2) #Normal distribution\n",
    "print(x_rnd_normal)\n",
    "\n",
    "print('*'*100)\n",
    "\n",
    "x_rnd_interval = torch.randint(43,100, size=(3,3)) #Random int within specific interval \n",
    "print(x_rnd_interval)\n",
    "\n",
    "print('*'*100)\n",
    "x_rnd_perm = torch.randperm(30) #random permutation of integers from 0 to n-1\n",
    "print(x_rnd_perm)\n",
    "\n",
    "print('*'*100)\n",
    "x_arrange = torch.arange(10, 15, 0.5)#values from the interval [start, end) taken with common difference step.\n",
    "print(x_arrange)"
   ]
  },
  {
   "cell_type": "code",
   "execution_count": 70,
   "id": "e4f4a436",
   "metadata": {},
   "outputs": [
    {
     "name": "stdout",
     "output_type": "stream",
     "text": [
      "tensor([[ 0.0758,  0.1415],\n",
      "        [ 1.1255,  0.3845],\n",
      "        [ 0.7050, -0.0143],\n",
      "        [ 0.0984,  0.1814]])\n",
      "****************************************************************************************************\n",
      "tensor([[ 0.0758,  0.1415,  0.5043,  0.4235,  0.7872,  0.9641,  0.1795],\n",
      "        [ 1.1255,  0.3845,  0.3067,  0.0203,  0.8597,  0.0410,  0.7150],\n",
      "        [ 0.7050, -0.0143,  0.0016,  0.9523,  0.9346,  0.6513,  0.1195]])\n"
     ]
    }
   ],
   "source": [
    "#Concantetion of tensors\n",
    "\n",
    "a = torch.randn(3,2)\n",
    "b = torch.rand(1,2)\n",
    "\n",
    "#concat row-wise\n",
    "res_row_concat = torch.cat([a, b], 0)\n",
    "print(res_row_concat)\n",
    "\n",
    "\n",
    "print('*'*100)\n",
    "\n",
    "b_dash = torch.rand(3,5)\n",
    "\n",
    "#concat col-wise\n",
    "res_col_concat = torch.cat([a, b_dash], 1)\n",
    "print(res_col_concat)"
   ]
  },
  {
   "cell_type": "code",
   "execution_count": 83,
   "id": "4230ca85",
   "metadata": {},
   "outputs": [
    {
     "name": "stdout",
     "output_type": "stream",
     "text": [
      "torch.Size([2, 3])\n",
      "torch.Size([1, 2, 3])\n",
      "****************************************************************************************************\n",
      "(1, 6)\n",
      "(6,)\n"
     ]
    }
   ],
   "source": [
    "#unsqueeze operations\n",
    "\n",
    "print(xx.shape)\n",
    "xx_unseq = torch.unsqueeze(xx, 0)\n",
    "print(xx_unseq.shape)\n",
    "\n",
    "print('*'*100)\n",
    "\n",
    "#squeeze operations\n",
    "print(pt_np.shape)\n",
    "pt_np_seq = pt_np.squeeze() #remove superficial 1 \n",
    "print(pt_np_seq.shape)"
   ]
  },
  {
   "cell_type": "code",
   "execution_count": 77,
   "id": "21e7c377",
   "metadata": {},
   "outputs": [
    {
     "name": "stdout",
     "output_type": "stream",
     "text": [
      "tensor([[[  0,   1,   2,   3,   4,   5],\n",
      "         [  6,   7,   8,   9,  10,  11],\n",
      "         [ 12,  13,  14,  15,  16,  17],\n",
      "         [ 18,  19,  20,  21,  22,  23],\n",
      "         [ 24,  25,  26,  27,  28,  29]],\n",
      "\n",
      "        [[ 30,  31,  32,  33,  34,  35],\n",
      "         [ 36,  37,  38,  39,  40,  41],\n",
      "         [ 42,  43,  44,  45,  46,  47],\n",
      "         [ 48,  49,  50,  51,  52,  53],\n",
      "         [ 54,  55,  56,  57,  58,  59]],\n",
      "\n",
      "        [[ 60,  61,  62,  63,  64,  65],\n",
      "         [ 66,  67,  68,  69,  70,  71],\n",
      "         [ 72,  73,  74,  75,  76,  77],\n",
      "         [ 78,  79,  80,  81,  82,  83],\n",
      "         [ 84,  85,  86,  87,  88,  89]],\n",
      "\n",
      "        [[ 90,  91,  92,  93,  94,  95],\n",
      "         [ 96,  97,  98,  99, 100, 101],\n",
      "         [102, 103, 104, 105, 106, 107],\n",
      "         [108, 109, 110, 111, 112, 113],\n",
      "         [114, 115, 116, 117, 118, 119]]])\n",
      "****************************************************************************************************\n",
      "tensor([ 435, 1335, 2235, 3135])\n",
      "torch.Size([4])\n"
     ]
    }
   ],
   "source": [
    "#Sum operation\n",
    "\n",
    "a_dash = torch.arange(4 * 5 * 6).view(4,5,6) # 4*5*6 because, for 'view' operation, multiplication should be same\n",
    "print(a_dash)\n",
    "\n",
    "print('*'*100)\n",
    "\n",
    "a_dash_sum = torch.sum(a_dash, (2,1))\n",
    "print(a_dash_sum)\n",
    "print(a_dash_sum.shape)"
   ]
  },
  {
   "cell_type": "code",
   "execution_count": null,
   "id": "4bf8788d",
   "metadata": {},
   "outputs": [],
   "source": [
    "#send tensor to another device ie GPU\n",
    "# b = b.cuda()"
   ]
  },
  {
   "cell_type": "code",
   "execution_count": null,
   "id": "c21ca18a",
   "metadata": {},
   "outputs": [],
   "source": []
  },
  {
   "cell_type": "code",
   "execution_count": null,
   "id": "57b4b985",
   "metadata": {},
   "outputs": [],
   "source": []
  }
 ],
 "metadata": {
  "kernelspec": {
   "display_name": "Python 3 (ipykernel)",
   "language": "python",
   "name": "python3"
  },
  "language_info": {
   "codemirror_mode": {
    "name": "ipython",
    "version": 3
   },
   "file_extension": ".py",
   "mimetype": "text/x-python",
   "name": "python",
   "nbconvert_exporter": "python",
   "pygments_lexer": "ipython3",
   "version": "3.9.9"
  }
 },
 "nbformat": 4,
 "nbformat_minor": 5
}
