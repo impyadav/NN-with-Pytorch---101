{
 "cells": [
  {
   "cell_type": "markdown",
   "id": "185e1b5f",
   "metadata": {},
   "source": [
    "# Pytorch Auto differentiation"
   ]
  },
  {
   "cell_type": "markdown",
   "id": "f5408338",
   "metadata": {},
   "source": [
    "Part of #30DaysOfBasics, I'm gonna demonstrate how pytorch powerful Auto Diff works."
   ]
  },
  {
   "cell_type": "code",
   "execution_count": 1,
   "id": "56bdd4df",
   "metadata": {},
   "outputs": [],
   "source": [
    "import torch"
   ]
  },
  {
   "cell_type": "code",
   "execution_count": 4,
   "id": "05fc62a5",
   "metadata": {
    "scrolled": true
   },
   "outputs": [
    {
     "name": "stdout",
     "output_type": "stream",
     "text": [
      "tensor([[2., 3., 4.],\n",
      "        [5., 6., 7.]])\n",
      "None\n"
     ]
    }
   ],
   "source": [
    "t1 = torch.tensor([[1,2,3], [4,5,6]], dtype=torch.float32)\n",
    "t2 = torch.ones(2,3)\n",
    "\n",
    "t1_plus_t2 = t1 + t2\n",
    "\n",
    "print(t1_plus_t2)\n",
    "\n",
    "print(t1_plus_t2.grad_fn)"
   ]
  },
  {
   "cell_type": "code",
   "execution_count": 7,
   "id": "6d4631af",
   "metadata": {},
   "outputs": [
    {
     "name": "stdout",
     "output_type": "stream",
     "text": [
      "<AddBackward0 object at 0x15672d550>\n"
     ]
    }
   ],
   "source": [
    "#including t1, t2 in CG (computational graph)\n",
    "\n",
    "t1.requires_grad_()\n",
    "t2.requires_grad_()\n",
    "\n",
    "t1_plus_t2_dash = t1 + t2\n",
    "\n",
    "print(t1_plus_t2_dash.grad_fn)"
   ]
  },
  {
   "cell_type": "code",
   "execution_count": 10,
   "id": "7a03048e",
   "metadata": {},
   "outputs": [
    {
     "data": {
      "text/plain": [
       "torch.Size([2, 3])"
      ]
     },
     "execution_count": 10,
     "metadata": {},
     "output_type": "execute_result"
    }
   ],
   "source": [
    "t1_plus_t2_dash.size()"
   ]
  },
  {
   "cell_type": "code",
   "execution_count": 11,
   "id": "4849746a",
   "metadata": {},
   "outputs": [
    {
     "data": {
      "text/plain": [
       "torch.Size([3, 1])"
      ]
     },
     "execution_count": 11,
     "metadata": {},
     "output_type": "execute_result"
    }
   ],
   "source": [
    "w1.size()"
   ]
  },
  {
   "cell_type": "code",
   "execution_count": 13,
   "id": "3983d77f",
   "metadata": {},
   "outputs": [
    {
     "name": "stdout",
     "output_type": "stream",
     "text": [
      "tensor([-5.9472], grad_fn=<AddBackward0>)\n"
     ]
    }
   ],
   "source": [
    "w1 = torch.randn(3,1)\n",
    "\n",
    "w1.requires_grad_()\n",
    "\n",
    "p = torch.mm(t1_plus_t2_dash, w1)\n",
    "\n",
    "s = sum(p)\n",
    "\n",
    "print(s)"
   ]
  },
  {
   "cell_type": "code",
   "execution_count": null,
   "id": "8fd788c0",
   "metadata": {},
   "outputs": [],
   "source": [
    "#lets do backward propogation\n",
    "\n",
    "#as pytorch keeps leaf tensor's gradient, not for non-leaf in order to save memory. \n",
    "\n",
    "\n",
    "s.backward()\n",
    "\n",
    "print(t1.grad)\n",
    "print(t1_plus_t2_dash.grad)\n",
    "print(p.grad)\n",
    "\n",
    "\n",
    "\n",
    "#However we can retain intermediate variable's gradient by setting .retain_grad() \n",
    "\n",
    "t1_plus_t2_dash.retain_grad()\n",
    "s.backward()\n",
    "\n",
    "print(t1_plus_t2_dash.grad)"
   ]
  },
  {
   "cell_type": "code",
   "execution_count": 18,
   "id": "49b9fc26",
   "metadata": {},
   "outputs": [
    {
     "name": "stdout",
     "output_type": "stream",
     "text": [
      "tensor([[0.1885, 1.4098],\n",
      "        [1.0837, 3.3648]], grad_fn=<PowBackward0>) tensor(1.5117, grad_fn=<MeanBackward0>)\n",
      "****************************************************************************************************\n",
      "tensor([[-0.2171, -0.5937],\n",
      "        [ 0.5205, -0.9172]])\n"
     ]
    }
   ],
   "source": [
    "#complete example\n",
    "\n",
    "a = torch.randn(2,2,requires_grad=True)\n",
    "\n",
    "b = a + 2\n",
    "\n",
    "c = a ** 2\n",
    "\n",
    "out = c.mean()\n",
    "\n",
    "print(c, out)\n",
    "\n",
    "print('*'*100)\n",
    "\n",
    "out.backward()\n",
    "\n",
    "print(a.grad)"
   ]
  },
  {
   "cell_type": "code",
   "execution_count": null,
   "id": "9d8b72e4",
   "metadata": {},
   "outputs": [],
   "source": []
  },
  {
   "cell_type": "code",
   "execution_count": null,
   "id": "abd88cf3",
   "metadata": {},
   "outputs": [],
   "source": []
  },
  {
   "cell_type": "code",
   "execution_count": null,
   "id": "6c7081ea",
   "metadata": {},
   "outputs": [],
   "source": []
  }
 ],
 "metadata": {
  "kernelspec": {
   "display_name": "Python 3 (ipykernel)",
   "language": "python",
   "name": "python3"
  },
  "language_info": {
   "codemirror_mode": {
    "name": "ipython",
    "version": 3
   },
   "file_extension": ".py",
   "mimetype": "text/x-python",
   "name": "python",
   "nbconvert_exporter": "python",
   "pygments_lexer": "ipython3",
   "version": "3.9.9"
  }
 },
 "nbformat": 4,
 "nbformat_minor": 5
}
