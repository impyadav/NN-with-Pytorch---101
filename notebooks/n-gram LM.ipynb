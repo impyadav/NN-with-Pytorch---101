{
 "cells": [
  {
   "cell_type": "markdown",
   "id": "d060dc91",
   "metadata": {},
   "source": [
    "# N-Gram Language Model"
   ]
  },
  {
   "cell_type": "markdown",
   "id": "28b24114",
   "metadata": {},
   "source": [
    "Part of **#30DaysOfBasics**, Let's train a N-gram language model using Deep learning"
   ]
  },
  {
   "cell_type": "code",
   "execution_count": 158,
   "id": "4bb88325",
   "metadata": {},
   "outputs": [],
   "source": [
    "import torch \n",
    "import torch.nn as nn\n",
    "import torch.nn.functional as F"
   ]
  },
  {
   "cell_type": "code",
   "execution_count": null,
   "id": "5c9d8e4d",
   "metadata": {},
   "outputs": [],
   "source": [
    "HI_FILE_PATH = '/Users/impyadav/Desktop/data/data/hi/hi_sample.txt'"
   ]
  },
  {
   "cell_type": "code",
   "execution_count": null,
   "id": "423bd144",
   "metadata": {},
   "outputs": [],
   "source": [
    "CONTEXT_SIZE = 3\n",
    "\n",
    "EMBD_DIM = 128"
   ]
  },
  {
   "cell_type": "code",
   "execution_count": null,
   "id": "bcb48ab7",
   "metadata": {},
   "outputs": [],
   "source": [
    "#Prepare the vocabulary\n",
    "\n",
    "def create_vocab(text_file):\n",
    "    with open(text_file, 'r', encoding='utf-8', errors='ignore') as f:\n",
    "        content = f.read()\n",
    "    vocab = set(content.split())\n",
    "    word_to_idx = {word: i for word, i in enumerate(set(vocab))}\n",
    "    idx_to_words = {i: word for word, i in enumerate(set(vocab))}\n",
    "    return vocab, word_to_idx, idx_to_words, content.split()"
   ]
  },
  {
   "cell_type": "code",
   "execution_count": null,
   "id": "c37f9a62",
   "metadata": {},
   "outputs": [],
   "source": [
    "#N gram generation from content\n",
    "\n",
    "def generate_n_grams(list_of_tokens, n):\n",
    "    n_grams = [\n",
    "        \n",
    "        ([list_of_tokens[idx-idx1-1] for idx1 in range(n)], list_of_tokens[idx]) for idx in range(n, len(list_of_tokens))\n",
    "    ]\n",
    "    return n_grams"
   ]
  },
  {
   "cell_type": "code",
   "execution_count": null,
   "id": "5a588faf",
   "metadata": {},
   "outputs": [],
   "source": [
    "hi_vocab, hi_word_to_idx, hi_idx_to_word, hi_content = create_vocab(HI_FILE_PATH)"
   ]
  },
  {
   "cell_type": "code",
   "execution_count": null,
   "id": "4a534f8c",
   "metadata": {},
   "outputs": [],
   "source": [
    "print('Lenght of Vocab: ', len(hi_vocab))\n",
    "\n",
    "print('Hi Content snippet: ', hi_content[:50])"
   ]
  },
  {
   "cell_type": "code",
   "execution_count": null,
   "id": "e3761af3",
   "metadata": {},
   "outputs": [],
   "source": [
    "hi_ngram = generate_n_grams(hi_content, 3)"
   ]
  },
  {
   "cell_type": "code",
   "execution_count": null,
   "id": "b2357774",
   "metadata": {},
   "outputs": [],
   "source": [
    "print('N-gram snippet: ', hi_ngram[:5])"
   ]
  },
  {
   "cell_type": "code",
   "execution_count": null,
   "id": "28c7e553",
   "metadata": {},
   "outputs": [],
   "source": [
    "class NGramLM(nn.Module):\n",
    "    \n",
    "    def __init__(self, vocab_size, embed_dim, context_size):\n",
    "        super(NGramLM, self).__init__()\n",
    "        self.embedding = nn.Embedding(vocab_size, embed_dim)\n",
    "        self.fc1 = nn.Linear(context_size * embed_dim, 128)\n",
    "        self.fc2 = nn.Linear(128, vocab_size)\n",
    "        \n",
    "#         self.relu = nn.functional.relu()\n",
    "#         self.softmax = nn.functional.log_softmax()\n",
    "        \n",
    "    \n",
    "    def forward(self, inputs):\n",
    "        embeddings = self.embedding(inputs).view((1,-1))\n",
    "        out = F.relu(self.fc1(embeddings))\n",
    "        \n",
    "        out = self.fc2(out)\n",
    "        log_probs = F.log_softmax(out, dim=1)\n",
    "        \n",
    "        return log_probs"
   ]
  },
  {
   "cell_type": "code",
   "execution_count": null,
   "id": "92ae4288",
   "metadata": {},
   "outputs": [],
   "source": [
    "net = NGramLM(len(hi_vocab),EMBD_DIM, CONTEXT_SIZE)"
   ]
  },
  {
   "cell_type": "code",
   "execution_count": null,
   "id": "dbd996d4",
   "metadata": {},
   "outputs": [],
   "source": [
    "loss_fn = nn.NLLLoss()\n",
    "optimizer = torch.optim.SGD(net.parameters(), lr=0.01)"
   ]
  },
  {
   "cell_type": "code",
   "execution_count": null,
   "id": "8822d873",
   "metadata": {},
   "outputs": [],
   "source": [
    "#Model Training\n",
    "\n",
    "losses = []\n",
    "\n",
    "for epoch in range(20):\n",
    "    \n",
    "    total_loss = 0\n",
    "    \n",
    "    for context, target in hi_ngram:\n",
    "        \n",
    "        context_idxs = torch.tensor([hi_idx_to_word[word] for word in context], dtype=torch.long)\n",
    "        \n",
    "        net.zero_grad()\n",
    "        \n",
    "        words_prob = net(context_idxs)\n",
    "        \n",
    "        loss = loss_fn(words_prob, torch.tensor([hi_idx_to_word[target]], dtype=torch.long))\n",
    "        \n",
    "        loss.backward()\n",
    "        \n",
    "        optimizer.step()\n",
    "        \n",
    "        total_loss += loss.item()\n",
    "    \n",
    "    print('Epoch {}/{} and loss: {}'.format(epoch, 20, total_loss))\n",
    "    \n",
    "    losses.append(total_loss)\n",
    "\n",
    "# print('Losses: ', losses)"
   ]
  },
  {
   "cell_type": "code",
   "execution_count": null,
   "id": "14dab593",
   "metadata": {},
   "outputs": [],
   "source": [
    "#generate the embedding with traied model\n",
    "\n",
    "exmaple_embedd = net.embedding.weight[hi_idx_to_word['प्रतिबद्ध']]\n",
    "print(exmaple_embedd.shape)\n",
    "\n",
    "print(exmaple_embedd)"
   ]
  }
 ],
 "metadata": {
  "kernelspec": {
   "display_name": "Python 3 (ipykernel)",
   "language": "python",
   "name": "python3"
  },
  "language_info": {
   "codemirror_mode": {
    "name": "ipython",
    "version": 3
   },
   "file_extension": ".py",
   "mimetype": "text/x-python",
   "name": "python",
   "nbconvert_exporter": "python",
   "pygments_lexer": "ipython3",
   "version": "3.9.9"
  }
 },
 "nbformat": 4,
 "nbformat_minor": 5
}
